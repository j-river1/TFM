{
  "nbformat": 4,
  "nbformat_minor": 0,
  "metadata": {
    "colab": {
      "name": "NiftiFormat.ipynb",
      "provenance": [],
      "toc_visible": true,
      "mount_file_id": "12tC6y9IKkBGhRLP28SV8i3hSnCPSfcaP",
      "authorship_tag": "ABX9TyOZqn6ixaMaxdxfIGda6Ai2",
      "include_colab_link": true
    },
    "kernelspec": {
      "name": "python3",
      "display_name": "Python 3"
    }
  },
  "cells": [
    {
      "cell_type": "markdown",
      "metadata": {
        "id": "view-in-github",
        "colab_type": "text"
      },
      "source": [
        "<a href=\"https://colab.research.google.com/github/j-river1/TFM/blob/master/NiftiFormat.ipynb\" target=\"_parent\"><img src=\"https://colab.research.google.com/assets/colab-badge.svg\" alt=\"Open In Colab\"/></a>"
      ]
    },
    {
      "cell_type": "markdown",
      "metadata": {
        "id": "qfpB-FLBx8US"
      },
      "source": [
        "# How to read nifti files"
      ]
    },
    {
      "cell_type": "code",
      "metadata": {
        "id": "igydhZytxl4W"
      },
      "source": [
        "import os\n",
        "import numpy as np\n",
        "import nibabel as nib\n",
        "import glob"
      ],
      "execution_count": 22,
      "outputs": []
    },
    {
      "cell_type": "code",
      "metadata": {
        "id": "VHbZbFT0yQvC",
        "outputId": "60396570-74ac-40ef-d616-e5a1741e7e18",
        "colab": {
          "base_uri": "https://localhost:8080/"
        }
      },
      "source": [
        "%cd '/content/drive/My Drive/Colab Notebooks/TFM/Datos/IXI-T1'"
      ],
      "execution_count": 5,
      "outputs": [
        {
          "output_type": "stream",
          "text": [
            "/content/drive/My Drive/Colab Notebooks/TFM/Datos/IXI-T1\n"
          ],
          "name": "stdout"
        }
      ]
    },
    {
      "cell_type": "markdown",
      "metadata": {
        "id": "ASs4ee332h81"
      },
      "source": [
        "# Leer la imagen"
      ]
    },
    {
      "cell_type": "code",
      "metadata": {
        "id": "NuA_VNK5ykiM"
      },
      "source": [
        " img = nib.load('/content/drive/My Drive/Colab Notebooks/TFM/Datos/IXI-T1/IXI002-Guys-0828-T1.nii.gz')"
      ],
      "execution_count": 9,
      "outputs": []
    },
    {
      "cell_type": "code",
      "metadata": {
        "id": "hfE-0vcQ1mYC",
        "outputId": "fc355372-c6d5-4342-9713-a4faeab9c199",
        "colab": {
          "base_uri": "https://localhost:8080/"
        }
      },
      "source": [
        "img"
      ],
      "execution_count": 10,
      "outputs": [
        {
          "output_type": "execute_result",
          "data": {
            "text/plain": [
              "<nibabel.nifti1.Nifti1Image at 0x7fe15d181668>"
            ]
          },
          "metadata": {
            "tags": []
          },
          "execution_count": 10
        }
      ]
    },
    {
      "cell_type": "markdown",
      "metadata": {
        "id": "cjWFROOT2ofD"
      },
      "source": [
        "# Atributos de la imagen"
      ]
    },
    {
      "cell_type": "code",
      "metadata": {
        "id": "L1jgiOTA2EkX",
        "outputId": "85ba3ee4-8f0c-46a9-dcf9-6243066debc2",
        "colab": {
          "base_uri": "https://localhost:8080/"
        }
      },
      "source": [
        "img.dataobj"
      ],
      "execution_count": 11,
      "outputs": [
        {
          "output_type": "execute_result",
          "data": {
            "text/plain": [
              "<nibabel.arrayproxy.ArrayProxy at 0x7fe15d1815f8>"
            ]
          },
          "metadata": {
            "tags": []
          },
          "execution_count": 11
        }
      ]
    },
    {
      "cell_type": "markdown",
      "metadata": {
        "id": "b7VWW4Gj3JPt"
      },
      "source": [
        "# Solo dos decimales de la imagen"
      ]
    },
    {
      "cell_type": "code",
      "metadata": {
        "id": "2XcpHF3L2UmO",
        "outputId": "dc6b04d3-37a5-434d-d532-17bc7d5f78c6",
        "colab": {
          "base_uri": "https://localhost:8080/"
        }
      },
      "source": [
        "np.set_printoptions(precision=2, suppress=True)\n",
        "img.affine"
      ],
      "execution_count": 16,
      "outputs": [
        {
          "output_type": "execute_result",
          "data": {
            "text/plain": [
              "array([[   0.  ,    0.  ,    1.2 ,  -88.64],\n",
              "       [  -0.93,    0.12,    0.  ,  116.53],\n",
              "       [   0.12,    0.93,   -0.  , -112.11],\n",
              "       [   0.  ,    0.  ,    0.  ,    1.  ]])"
            ]
          },
          "metadata": {
            "tags": []
          },
          "execution_count": 16
        }
      ]
    },
    {
      "cell_type": "markdown",
      "metadata": {
        "id": "D9Zfs-VR3ZkE"
      },
      "source": [
        "# Metadata"
      ]
    },
    {
      "cell_type": "code",
      "metadata": {
        "id": "kN-RD5S33ZDB",
        "outputId": "8a3e21f8-0b5b-48c2-cfb8-2037dd858425",
        "colab": {
          "base_uri": "https://localhost:8080/"
        }
      },
      "source": [
        "header = img.header\n",
        "print(header) "
      ],
      "execution_count": 18,
      "outputs": [
        {
          "output_type": "stream",
          "text": [
            "<class 'nibabel.nifti1.Nifti1Header'> object, endian='<'\n",
            "sizeof_hdr      : 348\n",
            "data_type       : b''\n",
            "db_name         : b''\n",
            "extents         : 0\n",
            "session_error   : 0\n",
            "regular         : b'r'\n",
            "dim_info        : 0\n",
            "dim             : [  3 256 256 150   1   1   1   1]\n",
            "intent_p1       : 0.0\n",
            "intent_p2       : 0.0\n",
            "intent_p3       : 0.0\n",
            "intent_code     : none\n",
            "datatype        : int16\n",
            "bitpix          : 16\n",
            "slice_start     : 0\n",
            "pixdim          : [-1.    0.94  0.94  1.2   0.    0.    0.    0.  ]\n",
            "vox_offset      : 0.0\n",
            "scl_slope       : nan\n",
            "scl_inter       : nan\n",
            "slice_end       : 0\n",
            "slice_code      : unknown\n",
            "xyzt_units      : 10\n",
            "cal_max         : 0.0\n",
            "cal_min         : 0.0\n",
            "slice_duration  : 0.0\n",
            "toffset         : 0.0\n",
            "glmax           : 0\n",
            "glmin           : 0\n",
            "descrip         : b'MR'\n",
            "aux_file        : b''\n",
            "qform_code      : scanner\n",
            "sform_code      : scanner\n",
            "quatern_b       : 0.468175\n",
            "quatern_c       : -0.5299171\n",
            "quatern_d       : -0.468175\n",
            "qoffset_x       : -88.63989\n",
            "qoffset_y       : 116.532005\n",
            "qoffset_z       : -112.113556\n",
            "srow_x          : [  0.     0.     1.2  -88.64]\n",
            "srow_y          : [ -0.93   0.12   0.   116.53]\n",
            "srow_z          : [   0.12    0.93   -0.   -112.11]\n",
            "intent_name     : b''\n",
            "magic           : b'n+1'\n"
          ],
          "name": "stdout"
        }
      ]
    },
    {
      "cell_type": "markdown",
      "metadata": {
        "id": "sO4KYtVV3ruZ"
      },
      "source": [
        "# Shape"
      ]
    },
    {
      "cell_type": "code",
      "metadata": {
        "id": "GYIitOFJ2ftb",
        "outputId": "14b4cfb2-e735-416d-c886-6238f9424c33",
        "colab": {
          "base_uri": "https://localhost:8080/"
        }
      },
      "source": [
        "print(header.get_data_shape())"
      ],
      "execution_count": 20,
      "outputs": [
        {
          "output_type": "stream",
          "text": [
            "(256, 256, 150)\n"
          ],
          "name": "stdout"
        }
      ]
    },
    {
      "cell_type": "code",
      "metadata": {
        "id": "2ZtMV3zp4bXG",
        "outputId": "6517b715-6d32-44e9-8d85-515178f12478",
        "colab": {
          "base_uri": "https://localhost:8080/"
        }
      },
      "source": [
        "ff = glob.glob('/content/drive/My Drive/Colab Notebooks/TFM/Datos/IXI-T1/*')\n",
        "len(ff)"
      ],
      "execution_count": 28,
      "outputs": [
        {
          "output_type": "execute_result",
          "data": {
            "text/plain": [
              "581"
            ]
          },
          "metadata": {
            "tags": []
          },
          "execution_count": 28
        }
      ]
    }
  ]
}