{
  "nbformat": 4,
  "nbformat_minor": 0,
  "metadata": {
    "colab": {
      "name": "HowToReadNibabel.ipynb",
      "provenance": [],
      "mount_file_id": "13FSSEUGoTQXj30PJkIRIq9sD_rT0LPhj",
      "authorship_tag": "ABX9TyO61G0F6D+5NMx7V5IS/BeF",
      "include_colab_link": true
    },
    "kernelspec": {
      "name": "python3",
      "display_name": "Python 3"
    }
  },
  "cells": [
    {
      "cell_type": "markdown",
      "metadata": {
        "id": "view-in-github",
        "colab_type": "text"
      },
      "source": [
        "<a href=\"https://colab.research.google.com/github/j-river1/TFM/blob/master/HowToReadNibabel.ipynb\" target=\"_parent\"><img src=\"https://colab.research.google.com/assets/colab-badge.svg\" alt=\"Open In Colab\"/></a>"
      ]
    },
    {
      "cell_type": "markdown",
      "metadata": {
        "id": "QEUU-wvCVYyI"
      },
      "source": [
        "**How to read Nibabel images**\n",
        "\n",
        "First we load some libraries we are going to need for the examples"
      ]
    },
    {
      "cell_type": "code",
      "metadata": {
        "id": "f1NnjNz_U5kL"
      },
      "source": [
        "import os\n",
        "import numpy as np\n",
        "import glob\n",
        "import tarfile\n",
        "import os\n",
        "from pydrive.auth import GoogleAuth\n",
        "from pydrive.drive import GoogleDrive\n",
        "from google.colab import auth\n",
        "from oauth2client.client import GoogleCredentials\n",
        "\n",
        "\n"
      ],
      "execution_count": 21,
      "outputs": []
    },
    {
      "cell_type": "markdown",
      "metadata": {
        "id": "0dcTtFbZbT4S"
      },
      "source": [
        "# Acceder a Google Drive"
      ]
    },
    {
      "cell_type": "code",
      "metadata": {
        "id": "gmxsmcNObPI3",
        "outputId": "6f1a02f6-0029-490b-8837-573cadf9adca",
        "colab": {
          "base_uri": "https://localhost:8080/",
          "height": 221
        }
      },
      "source": [
        "auth.authenticate_user()\n",
        "gauth = GoogleAuth()\n",
        "gauth.credentials = GoogleCredentials.get_application_default()\n",
        "drive = GoogleDrive(gauth)"
      ],
      "execution_count": 1,
      "outputs": [
        {
          "output_type": "error",
          "ename": "NameError",
          "evalue": "ignored",
          "traceback": [
            "\u001b[0;31m---------------------------------------------------------------------------\u001b[0m",
            "\u001b[0;31mNameError\u001b[0m                                 Traceback (most recent call last)",
            "\u001b[0;32m<ipython-input-1-3254a9bed9fd>\u001b[0m in \u001b[0;36m<module>\u001b[0;34m()\u001b[0m\n\u001b[0;32m----> 1\u001b[0;31m \u001b[0mauth\u001b[0m\u001b[0;34m.\u001b[0m\u001b[0mauthenticate_user\u001b[0m\u001b[0;34m(\u001b[0m\u001b[0;34m)\u001b[0m\u001b[0;34m\u001b[0m\u001b[0;34m\u001b[0m\u001b[0m\n\u001b[0m\u001b[1;32m      2\u001b[0m \u001b[0mgauth\u001b[0m \u001b[0;34m=\u001b[0m \u001b[0mGoogleAuth\u001b[0m\u001b[0;34m(\u001b[0m\u001b[0;34m)\u001b[0m\u001b[0;34m\u001b[0m\u001b[0;34m\u001b[0m\u001b[0m\n\u001b[1;32m      3\u001b[0m \u001b[0mgauth\u001b[0m\u001b[0;34m.\u001b[0m\u001b[0mcredentials\u001b[0m \u001b[0;34m=\u001b[0m \u001b[0mGoogleCredentials\u001b[0m\u001b[0;34m.\u001b[0m\u001b[0mget_application_default\u001b[0m\u001b[0;34m(\u001b[0m\u001b[0;34m)\u001b[0m\u001b[0;34m\u001b[0m\u001b[0;34m\u001b[0m\u001b[0m\n\u001b[1;32m      4\u001b[0m \u001b[0mdrive\u001b[0m \u001b[0;34m=\u001b[0m \u001b[0mGoogleDrive\u001b[0m\u001b[0;34m(\u001b[0m\u001b[0mgauth\u001b[0m\u001b[0;34m)\u001b[0m\u001b[0;34m\u001b[0m\u001b[0;34m\u001b[0m\u001b[0m\n",
            "\u001b[0;31mNameError\u001b[0m: name 'auth' is not defined"
          ]
        }
      ]
    },
    {
      "cell_type": "markdown",
      "metadata": {
        "id": "dBAIuiQRV0Wu"
      },
      "source": [
        "There is an example image in the nibabel distribution"
      ]
    },
    {
      "cell_type": "code",
      "metadata": {
        "id": "GIBdepIkVyti"
      },
      "source": [
        "from nibabel.testing import data_path\n",
        "example_file = os.path.join(data_path, 'example4d.nii.gz')"
      ],
      "execution_count": 13,
      "outputs": []
    },
    {
      "cell_type": "code",
      "metadata": {
        "id": "MxiWpk_QUZNN"
      },
      "source": [
        "tar = tarfile.open(\"/content/drive/My Drive/Colab Notebooks/TFM/Datos/IXI-T1.tar\")\n",
        "tar.extractall()\n",
        "tar.close()"
      ],
      "execution_count": 22,
      "outputs": []
    },
    {
      "cell_type": "code",
      "metadata": {
        "id": "S48C_egKXIVo"
      },
      "source": [
        "ff = glob.glob('/content/drive/My Drive/Colab Notebooks/TFM/Datos/IXI-T1')"
      ],
      "execution_count": 23,
      "outputs": []
    },
    {
      "cell_type": "code",
      "metadata": {
        "id": "ZIRzeFi_XP-o",
        "outputId": "d7b415de-3e8a-4706-d252-ad0dc833908b",
        "colab": {
          "base_uri": "https://localhost:8080/"
        }
      },
      "source": [
        "len(ff)"
      ],
      "execution_count": 24,
      "outputs": [
        {
          "output_type": "execute_result",
          "data": {
            "text/plain": [
              "1"
            ]
          },
          "metadata": {
            "tags": []
          },
          "execution_count": 24
        }
      ]
    },
    {
      "cell_type": "markdown",
      "metadata": {
        "id": "UbQBu7vXWDVW"
      },
      "source": [
        "We load the file to create a nibabel image object:"
      ]
    },
    {
      "cell_type": "code",
      "metadata": {
        "id": "b6m6pUpXWBw4"
      },
      "source": [
        "import nibabel as nib\n",
        "img = nib.load(example_file)"
      ],
      "execution_count": 5,
      "outputs": []
    },
    {
      "cell_type": "markdown",
      "metadata": {
        "id": "xB4MIud5WaI-"
      },
      "source": [
        "The object img is an instance of a nibabel image. In fact it is an instance of a nibabel nibabel.nifti1.Nifti1Image:"
      ]
    },
    {
      "cell_type": "code",
      "metadata": {
        "id": "z9pA5r1sWbI8",
        "outputId": "06a92227-aa99-4f86-8af9-89306d68b381",
        "colab": {
          "base_uri": "https://localhost:8080/"
        }
      },
      "source": [
        "img"
      ],
      "execution_count": 6,
      "outputs": [
        {
          "output_type": "execute_result",
          "data": {
            "text/plain": [
              "<nibabel.nifti1.Nifti1Image at 0x7fa79beb3588>"
            ]
          },
          "metadata": {
            "tags": []
          },
          "execution_count": 6
        }
      ]
    },
    {
      "cell_type": "markdown",
      "metadata": {
        "id": "KkWW2VZsWd-h"
      },
      "source": [
        "As with any Python object, you can inspect img to see what attributes it has. We recommend using IPython tab completion for this, but here are some examples of interesting attributes:\n",
        "\n",
        "dataobj is the object pointing to the image array data:\n"
      ]
    },
    {
      "cell_type": "code",
      "metadata": {
        "id": "i61YNLljKaYn",
        "outputId": "21bdf118-8468-49f4-d4e4-5c1661a60715",
        "colab": {
          "base_uri": "https://localhost:8080/"
        }
      },
      "source": [
        "img.dataobj"
      ],
      "execution_count": 7,
      "outputs": [
        {
          "output_type": "execute_result",
          "data": {
            "text/plain": [
              "<nibabel.arrayproxy.ArrayProxy at 0x7fa79beb3518>"
            ]
          },
          "metadata": {
            "tags": []
          },
          "execution_count": 7
        }
      ]
    },
    {
      "cell_type": "code",
      "metadata": {
        "id": "hQdy_KYUM2Zh"
      },
      "source": [
        "np.set_printoptions(precision=2, suppress=True)"
      ],
      "execution_count": 8,
      "outputs": []
    },
    {
      "cell_type": "code",
      "metadata": {
        "id": "UBxln2gsM5YA",
        "outputId": "057feed9-7852-4c6a-f714-f3bd8743f1f5",
        "colab": {
          "base_uri": "https://localhost:8080/"
        }
      },
      "source": [
        "img.affine"
      ],
      "execution_count": 9,
      "outputs": [
        {
          "output_type": "execute_result",
          "data": {
            "text/plain": [
              "array([[ -2.  ,   0.  ,   0.  , 117.86],\n",
              "       [ -0.  ,   1.97,  -0.36, -35.72],\n",
              "       [  0.  ,   0.32,   2.17,  -7.25],\n",
              "       [  0.  ,   0.  ,   0.  ,   1.  ]])"
            ]
          },
          "metadata": {
            "tags": []
          },
          "execution_count": 9
        }
      ]
    },
    {
      "cell_type": "code",
      "metadata": {
        "id": "gOgVZ3l4M_Aj",
        "outputId": "8afa29d6-3841-48b2-a98b-d3b531d20a9d",
        "colab": {
          "base_uri": "https://localhost:8080/"
        }
      },
      "source": [
        "img.header"
      ],
      "execution_count": 10,
      "outputs": [
        {
          "output_type": "execute_result",
          "data": {
            "text/plain": [
              "<nibabel.nifti1.Nifti1Header at 0x7fa79beb35c0>"
            ]
          },
          "metadata": {
            "tags": []
          },
          "execution_count": 10
        }
      ]
    }
  ]
}