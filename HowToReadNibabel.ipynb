{
  "nbformat": 4,
  "nbformat_minor": 0,
  "metadata": {
    "colab": {
      "name": "HowToReadNibabel.ipynb",
      "provenance": [],
      "authorship_tag": "ABX9TyMQVwR/mkPsal0VVGy6C5vP",
      "include_colab_link": true
    },
    "kernelspec": {
      "name": "python3",
      "display_name": "Python 3"
    }
  },
  "cells": [
    {
      "cell_type": "markdown",
      "metadata": {
        "id": "view-in-github",
        "colab_type": "text"
      },
      "source": [
        "<a href=\"https://colab.research.google.com/github/j-river1/TFM/blob/master/HowToReadNibabel.ipynb\" target=\"_parent\"><img src=\"https://colab.research.google.com/assets/colab-badge.svg\" alt=\"Open In Colab\"/></a>"
      ]
    },
    {
      "cell_type": "markdown",
      "metadata": {
        "id": "QEUU-wvCVYyI"
      },
      "source": [
        "**How to read Nibabel images**\n",
        "\n",
        "First we load some libraries we are going to need for the examples"
      ]
    },
    {
      "cell_type": "code",
      "metadata": {
        "id": "f1NnjNz_U5kL"
      },
      "source": [
        "import os\n",
        "import numpy as np"
      ],
      "execution_count": null,
      "outputs": []
    },
    {
      "cell_type": "markdown",
      "metadata": {
        "id": "dBAIuiQRV0Wu"
      },
      "source": [
        "There is an example image in the nibabel distribution"
      ]
    },
    {
      "cell_type": "code",
      "metadata": {
        "id": "GIBdepIkVyti"
      },
      "source": [
        "from nibabel.testing import data_path\n",
        "example_file = os.path.join(data_path, 'example4d.nii.gz')"
      ],
      "execution_count": null,
      "outputs": []
    },
    {
      "cell_type": "markdown",
      "metadata": {
        "id": "UbQBu7vXWDVW"
      },
      "source": [
        "We load the file to create a nibabel image object:"
      ]
    },
    {
      "cell_type": "code",
      "metadata": {
        "id": "b6m6pUpXWBw4"
      },
      "source": [
        "import nibabel as nib\n",
        "img = nib.load(example_file)"
      ],
      "execution_count": null,
      "outputs": []
    },
    {
      "cell_type": "markdown",
      "metadata": {
        "id": "xB4MIud5WaI-"
      },
      "source": [
        "The object img is an instance of a nibabel image. In fact it is an instance of a nibabel nibabel.nifti1.Nifti1Image:"
      ]
    },
    {
      "cell_type": "code",
      "metadata": {
        "id": "z9pA5r1sWbI8",
        "outputId": "dc416d3e-ea85-48a8-a352-6d773251ff4a",
        "colab": {
          "base_uri": "https://localhost:8080/",
          "height": 35
        }
      },
      "source": [
        "img"
      ],
      "execution_count": null,
      "outputs": [
        {
          "output_type": "execute_result",
          "data": {
            "text/plain": [
              "<nibabel.nifti1.Nifti1Image at 0x7f87f84930f0>"
            ]
          },
          "metadata": {
            "tags": []
          },
          "execution_count": 4
        }
      ]
    },
    {
      "cell_type": "markdown",
      "metadata": {
        "id": "KkWW2VZsWd-h"
      },
      "source": [
        "As with any Python object, you can inspect img to see what attributes it has. We recommend using IPython tab completion for this, but here are some examples of interesting attributes:\n",
        "\n",
        "dataobj is the object pointing to the image array data:\n"
      ]
    }
  ]
}