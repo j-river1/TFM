{
 "cells": [
  {
   "cell_type": "markdown",
   "metadata": {
    "id": "KnIqmQ3Ur3Nr"
   },
   "source": [
    "# Description of images\n",
    "\n",
    "This section is description per images, voxel resolution and size.\n",
    "\n"
   ]
  },
  {
   "cell_type": "code",
   "execution_count": 1,
   "metadata": {
    "id": "ZYqEa_sWsU8_"
   },
   "outputs": [],
   "source": [
    "import os\n",
    "import numpy as np\n",
    "import nibabel as nib\n",
    "import glob\n",
    "from pandas import DataFrame\n",
    "\n",
    "\n",
    "\n",
    "\n",
    "def description_images(image):\n",
    "    \"\"\" Function to display descriptions of images: voxel resolution, size and orientation \"\"\"\n",
    "    namefile = os.path.basename(image)\n",
    "    epi_img = nib.load(image)\n",
    "    voxel_resolution = epi_img.header.get_zooms()\n",
    "\n",
    "    matrix_size = epi_img.get_fdata().shape\n",
    "    orientation = nib.orientations.aff2axcodes(epi_img.affine)\n",
    "    return namefile, voxel_resolution, matrix_size, orientation\n",
    "\n",
    "\n",
    "\n",
    "\n"
   ]
  },
  {
   "cell_type": "markdown",
   "metadata": {
    "id": "w2ZwZ9ol0P4G"
   },
   "source": [
    "Read all images"
   ]
  },
  {
   "cell_type": "code",
   "execution_count": 2,
   "metadata": {
    "id": "zq5elWzJxIBX"
   },
   "outputs": [],
   "source": [
    "ff = glob.glob('/content/drive/My Drive/Colab Notebooks/TFM/Datos/IXI-T1/*')\n",
    "descriptionallimages = []\n",
    "\n",
    "for i in range(len(ff)):\n",
    "  descriptionallimages.append(description_images(ff[i]))\n",
    "\n",
    " "
   ]
  },
  {
   "cell_type": "code",
   "execution_count": 3,
   "metadata": {
    "colab": {
     "base_uri": "https://localhost:8080/",
     "height": 301
    },
    "executionInfo": {
     "elapsed": 808,
     "status": "ok",
     "timestamp": 1603596715826,
     "user": {
      "displayName": "Juan Camilo Rivera Palacio",
      "photoUrl": "",
      "userId": "12805166216462116438"
     },
     "user_tz": 300
    },
    "id": "kO9Ki_z45Q1I",
    "outputId": "9947476a-707c-47da-9596-c0d854c6ea00"
   },
   "outputs": [
    {
     "data": {
      "text/plain": [
       "[]"
      ]
     },
     "execution_count": 3,
     "metadata": {},
     "output_type": "execute_result"
    }
   ],
   "source": [
    "descriptionallimages"
   ]
  },
  {
   "cell_type": "code",
   "execution_count": 4,
   "metadata": {
    "id": "v5-olCCy5-2C"
   },
   "outputs": [],
   "source": [
    "df = DataFrame (descriptionallimages,columns=['FileName','Voxel_resolution','Size', 'Orientation'])\n",
    "df.to_csv(r'ResumeImages.csv', index = False)"
   ]
  },
  {
   "cell_type": "code",
   "execution_count": 5,
   "metadata": {
    "colab": {
     "base_uri": "https://localhost:8080/"
    },
    "executionInfo": {
     "elapsed": 548,
     "status": "ok",
     "timestamp": 1604068125721,
     "user": {
      "displayName": "Juan Camilo Rivera Palacio",
      "photoUrl": "",
      "userId": "12805166216462116438"
     },
     "user_tz": 300
    },
    "id": "mrZmELFc6PkL",
    "outputId": "2badcc3a-260d-4b77-ee54-e8a4925da38c"
   },
   "outputs": [
    {
     "name": "stderr",
     "output_type": "stream",
     "text": [
      "'pws' is not recognized as an internal or external command,\n",
      "operable program or batch file.\n"
     ]
    }
   ],
   "source": [
    "!pws"
   ]
  },
  {
   "cell_type": "markdown",
   "metadata": {
    "id": "e-jcrjXcAt2k"
   },
   "source": [
    "# Slices"
   ]
  },
  {
   "cell_type": "code",
   "execution_count": 6,
   "metadata": {
    "id": "5u2vDw9zAwyk"
   },
   "outputs": [],
   "source": [
    "def show_slices(slices):\n",
    "    \"\"\" Function to display row of image slices \"\"\"\n",
    "    fig, axes = plt.subplots(1, len(slices), figsize=(20, 20))\n",
    "    for i, slice in enumerate(slices):\n",
    "        axes[i].imshow(slice.T, cmap=\"gray\", origin=\"lower\")"
   ]
  },
  {
   "cell_type": "code",
   "execution_count": 7,
   "metadata": {
    "colab": {
     "base_uri": "https://localhost:8080/",
     "height": 1000
    },
    "executionInfo": {
     "elapsed": 646604,
     "status": "ok",
     "timestamp": 1603254637455,
     "user": {
      "displayName": "Juan Camilo Rivera Palacio",
      "photoUrl": "",
      "userId": "12805166216462116438"
     },
     "user_tz": 300
    },
    "id": "QUdhML90BCMW",
    "outputId": "2c3aa2e0-7f0c-4ecf-a9e1-d45d4b475d07"
   },
   "outputs": [
    {
     "name": "stdout",
     "output_type": "stream",
     "text": [
      "[WinError 3] The system cannot find the path specified: \"'/content/drive/My Drive/Colab Notebooks/TFM/Datos/ProfileImages'\"\n",
      "D:\\OneDrive - CGIAR\\PERSONAL\\Maestria\\TFM\n"
     ]
    }
   ],
   "source": [
    "%cd '/content/drive/My Drive/Colab Notebooks/TFM/Datos/ProfileImages'\n",
    "%matplotlib inline\n",
    "from matplotlib import pyplot as plt\n",
    "\n",
    "for i in range(len(ff)):\n",
    "  epi_img = nib.load(ff[i])\n",
    "  epi_img_data = epi_img.get_fdata() \n",
    "  show_slices([epi_img_data[160, :, :], epi_img_data[:, 70, :], epi_img_data[:, :, 70]])\n",
    "  plt.title(os.path.basename(ff[i]))\n",
    "  plt.savefig(os.path.join(os.path.basename(ff[i]) + \".\" + \"jpg\"))"
   ]
  }
 ],
 "metadata": {
  "colab": {
   "authorship_tag": "ABX9TyMatEgfc8NXokKUX8IJG4xn",
   "mount_file_id": "12tC6y9IKkBGhRLP28SV8i3hSnCPSfcaP",
   "name": "ProfileImages.ipynb",
   "provenance": [],
   "toc_visible": true
  },
  "kernelspec": {
   "display_name": "Python 3",
   "language": "python",
   "name": "python3"
  },
  "language_info": {
   "codemirror_mode": {
    "name": "ipython",
    "version": 3
   },
   "file_extension": ".py",
   "mimetype": "text/x-python",
   "name": "python",
   "nbconvert_exporter": "python",
   "pygments_lexer": "ipython3",
   "version": "3.7.3"
  }
 },
 "nbformat": 4,
 "nbformat_minor": 1
}
